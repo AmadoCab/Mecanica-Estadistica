{
 "cells": [
  {
   "cell_type": "markdown",
   "id": "b3caf0d4-a123-4cc7-8dcc-ceb313c0f416",
   "metadata": {},
   "source": [
    "# The Ising Model\n",
    "\n",
    "First approach to calculate the Ising model."
   ]
  },
  {
   "cell_type": "markdown",
   "id": "666171c0-fee5-4930-a8c0-c12d156fc146",
   "metadata": {},
   "source": [
    "## Libraries"
   ]
  },
  {
   "cell_type": "code",
   "execution_count": 1,
   "id": "38f87232-3ab9-4215-95fe-ef403afb6f38",
   "metadata": {},
   "outputs": [],
   "source": [
    "import numpy as np\n",
    "import matplotlib.pyplot as plt\n",
    "from scipy.ndimage import convolve"
   ]
  },
  {
   "cell_type": "markdown",
   "id": "72cb1f54-cdae-44cc-9030-15993abbbc1e",
   "metadata": {},
   "source": [
    "## Constants"
   ]
  },
  {
   "cell_type": "code",
   "execution_count": 2,
   "id": "b7b5f7f0-73bf-4c04-a940-b1cc6ca522d4",
   "metadata": {},
   "outputs": [],
   "source": [
    "kB = 1.381e-23"
   ]
  },
  {
   "cell_type": "markdown",
   "id": "37709e82-f113-480b-8e3e-f7b066d6c68f",
   "metadata": {},
   "source": [
    "## Initialization"
   ]
  },
  {
   "cell_type": "code",
   "execution_count": 3,
   "id": "1e18071b-b285-47df-b58b-6242b024e8f5",
   "metadata": {},
   "outputs": [],
   "source": [
    "# Define lattice size\n",
    "# (h, w)\n",
    "m = 50\n",
    "n = 50\n",
    "\n",
    "# Define amount of steps\n",
    "t = 1_000_000\n",
    "\n",
    "# Define temperature\n",
    "temp = 1e23"
   ]
  },
  {
   "cell_type": "code",
   "execution_count": 4,
   "id": "ac7dc1b7-3ca0-4faf-8267-0e7d371d1330",
   "metadata": {},
   "outputs": [
    {
     "data": {
      "text/plain": [
       "array([[ 1, -1, -1, ...,  1, -1, -1],\n",
       "       [-1, -1, -1, ...,  1, -1, -1],\n",
       "       [-1, -1, -1, ...,  1, -1, -1],\n",
       "       ...,\n",
       "       [-1,  1, -1, ..., -1, -1, -1],\n",
       "       [-1, -1, -1, ..., -1, -1, -1],\n",
       "       [-1, -1, -1, ..., -1, -1,  1]])"
      ]
     },
     "execution_count": 4,
     "metadata": {},
     "output_type": "execute_result"
    }
   ],
   "source": [
    "lattice = np.random.choice([-1, 1], size=(m, n), p=[0.75, 0.25])\n",
    "lattice"
   ]
  },
  {
   "cell_type": "markdown",
   "id": "5da4dc8e-05e9-436e-85c0-cab953e24dec",
   "metadata": {},
   "source": [
    "## Initial energy calculus"
   ]
  },
  {
   "cell_type": "code",
   "execution_count": 5,
   "id": "e0edd707-d824-4fe3-bf8d-e1e66d0ae0cf",
   "metadata": {},
   "outputs": [
    {
     "data": {
      "text/plain": [
       "-2264"
      ]
     },
     "execution_count": 5,
     "metadata": {},
     "output_type": "execute_result"
    }
   ],
   "source": [
    "k = np.array([[0, 1, 0],\n",
    "              [1, 0, 1],\n",
    "              [0, 1, 0]])\n",
    "\n",
    "energy = -(lattice * convolve(lattice, k, mode=\"wrap\")).sum()\n",
    "energy"
   ]
  },
  {
   "cell_type": "code",
   "execution_count": 6,
   "id": "094b8d11-ff6b-4127-a2d2-dcecf76f2191",
   "metadata": {
    "tags": []
   },
   "outputs": [
    {
     "data": {
      "text/plain": [
       "-6016"
      ]
     },
     "execution_count": 6,
     "metadata": {},
     "output_type": "execute_result"
    }
   ],
   "source": [
    "# Coordenadas a calcular\n",
    "x = np.random.randint(0, n, size=t)\n",
    "y = np.random.randint(0, m, size=t)\n",
    "i = 0\n",
    "\n",
    "while i < t:\n",
    "    s = lattice[y[i],x[i]]\n",
    "    e0 = -s*(lattice[y[i]-1,x[i]] \\\n",
    "            + lattice[(y[i]+1)%m,x[i]] \\\n",
    "            + lattice[y[i],x[i]-1] \\\n",
    "            + lattice[y[i],(x[i]+1)%n])\n",
    "    if e0 > 0:\n",
    "        lattice[y[i],x[i]] = -s\n",
    "        energy += -2*e0\n",
    "    elif np.random.rand() < np.exp(2*e0/1.5):\n",
    "        lattice[y[i],x[i]] = -s\n",
    "        energy += -2*e0\n",
    "    i += 1\n",
    "\n",
    "energy"
   ]
  },
  {
   "cell_type": "code",
   "execution_count": null,
   "id": "88424059-7884-4755-92a2-817ed157d019",
   "metadata": {},
   "outputs": [],
   "source": []
  }
 ],
 "metadata": {
  "kernelspec": {
   "display_name": "anaconda-2022.05-py39",
   "language": "python",
   "name": "conda-env-anaconda-2022.05-py39-py"
  },
  "language_info": {
   "codemirror_mode": {
    "name": "ipython",
    "version": 3
   },
   "file_extension": ".py",
   "mimetype": "text/x-python",
   "name": "python",
   "nbconvert_exporter": "python",
   "pygments_lexer": "ipython3",
   "version": "3.9.12"
  }
 },
 "nbformat": 4,
 "nbformat_minor": 5
}
